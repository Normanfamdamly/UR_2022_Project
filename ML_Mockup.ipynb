{
 "cells": [
  {
   "cell_type": "code",
   "execution_count": null,
   "id": "b66f47bc",
   "metadata": {},
   "outputs": [],
   "source": [
    "# import dependencies"
   ]
  },
  {
   "cell_type": "code",
   "execution_count": null,
   "id": "e18fd4b4",
   "metadata": {},
   "outputs": [],
   "source": [
    "# import data to DataFrame"
   ]
  },
  {
   "cell_type": "code",
   "execution_count": null,
   "id": "ea3c2e73",
   "metadata": {},
   "outputs": [],
   "source": [
    "# columns to drop: \n",
    "# Year\n",
    "# Education (due to excessive NaNs)\n",
    "# Ethnicity\n",
    "# SPHSERVICE\n",
    "# CMPSERVICE\n",
    "# OPISERVICE\n",
    "# RTCSERVICE\n",
    "# IJSSERVICE\n",
    "# MH1, MH2, AND MH3\n",
    "# MARSTAT (proportion of married people seems incorrect)\n",
    "# EMPLOY (over 63% missing)\n",
    "# DETNLF\n",
    "# VETERAN\n",
    "# CONDUCTFLG\n",
    "# DELIRDEMFLG\n",
    "# set aside ANXIETYFLAG for use as the target\n",
    "# ODDFLG\n",
    "# PDDFLG\n",
    "# PERSONFLG\n",
    "# OTHERDISFLG\n",
    "# STATEFIP\n",
    "# DIVISION\n",
    "# REGION"
   ]
  },
  {
   "cell_type": "code",
   "execution_count": null,
   "id": "ceb7f6bc",
   "metadata": {},
   "outputs": [],
   "source": [
    "# Split for training and testing\n",
    "# X = df.copy()\n",
    "# X = df.drop(ANXIETYFLAG, axis=1)\n",
    "# y = df['ANXIETYFLAG']"
   ]
  },
  {
   "cell_type": "code",
   "execution_count": null,
   "id": "e59ab0b9",
   "metadata": {},
   "outputs": [],
   "source": [
    "# Create Model Instance: logistic regression"
   ]
  },
  {
   "cell_type": "code",
   "execution_count": null,
   "id": "7858edbd",
   "metadata": {},
   "outputs": [],
   "source": [
    "# Fit the model"
   ]
  },
  {
   "cell_type": "code",
   "execution_count": null,
   "id": "964d5406",
   "metadata": {},
   "outputs": [],
   "source": [
    "# Train the model"
   ]
  },
  {
   "cell_type": "code",
   "execution_count": null,
   "id": "0191dd50",
   "metadata": {},
   "outputs": [],
   "source": [
    "# Check accuracy score and confusion matrix"
   ]
  },
  {
   "cell_type": "code",
   "execution_count": null,
   "id": "c887d7fe",
   "metadata": {},
   "outputs": [],
   "source": []
  },
  {
   "cell_type": "code",
   "execution_count": null,
   "id": "4b5f915d",
   "metadata": {},
   "outputs": [],
   "source": []
  },
  {
   "cell_type": "code",
   "execution_count": null,
   "id": "a2383acc",
   "metadata": {},
   "outputs": [],
   "source": []
  }
 ],
 "metadata": {
  "kernelspec": {
   "display_name": "mlenv",
   "language": "python",
   "name": "mlenv"
  },
  "language_info": {
   "codemirror_mode": {
    "name": "ipython",
    "version": 3
   },
   "file_extension": ".py",
   "mimetype": "text/x-python",
   "name": "python",
   "nbconvert_exporter": "python",
   "pygments_lexer": "ipython3",
   "version": "3.7.13"
  }
 },
 "nbformat": 4,
 "nbformat_minor": 5
}
